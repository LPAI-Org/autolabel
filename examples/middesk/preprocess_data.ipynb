{
 "cells": [
  {
   "cell_type": "code",
   "execution_count": 21,
   "id": "b024402a-41bb-4f62-b125-5528e5943db3",
   "metadata": {},
   "outputs": [],
   "source": [
    "import pandas as pd"
   ]
  },
  {
   "cell_type": "code",
   "execution_count": 22,
   "id": "23c134b3-f81a-4918-8db3-92f3c33fe4e3",
   "metadata": {},
   "outputs": [
    {
     "name": "stderr",
     "output_type": "stream",
     "text": [
      "/tmp/ipykernel_111743/2144522528.py:12: FutureWarning: Setting an item of incompatible dtype is deprecated and will raise in a future error of pandas. Value 'Names: CORDWOOD TRAIL INVESTMENTS L.L.C. Addresses: 5785 PINE VIEW DR, YPSILANTI, MI 48197-8961 Company Type: LLC Jurisdiction: DOMESTIC People (if any):  Filing Date: 2021-05-17' has dtype incompatible with float64, please explicitly cast to a compatible dtype first.\n",
      "  dataset.loc[row, \"entity1\"] = f'Names: {str(dataset.loc[row, \"src_names\"])} Addresses: {str(dataset.loc[row, \"src_addresses\"])} Company Type: {str(dataset.loc[row, \"src_entity_type\"])} Jurisdiction: {str(dataset.loc[row, \"src_jurisdiction\"])} People (if any): {str(dataset.loc[row, \"src_people\"])} Filing Date: {str(dataset.loc[row, \"src_filing_date\"])}'\n",
      "/tmp/ipykernel_111743/2144522528.py:13: FutureWarning: Setting an item of incompatible dtype is deprecated and will raise in a future error of pandas. Value 'Names: TRAILS INVESTORS, LLC Addresses: 1 RIDGE CT, PLACITAS, NM 87043-9528 Company Type: LLC Jurisdiction: DOMESTIC People (if any): STEEN M GUDELJ Filing Date: 2003-09-24' has dtype incompatible with float64, please explicitly cast to a compatible dtype first.\n",
      "  dataset.loc[row, \"entity2\"] = f'Names: {str(dataset.loc[row, \"dst_names\"])} Addresses: {str(dataset.loc[row, \"dst_addresses\"])} Company Type: {str(dataset.loc[row, \"dst_entity_type\"])} Jurisdiction: {str(dataset.loc[row, \"dst_jurisdiction\"])} People (if any): {str(dataset.loc[row, \"dst_people\"])} Filing Date: {str(dataset.loc[row, \"dst_filing_date\"])}'\n",
      "/tmp/ipykernel_111743/2144522528.py:14: FutureWarning: Setting an item of incompatible dtype is deprecated and will raise in a future error of pandas. Value 'not duplicate' has dtype incompatible with float64, please explicitly cast to a compatible dtype first.\n",
      "  dataset.loc[row, \"label\"] = \"duplicate\" if dataset.loc[row, \"match\"] else \"not duplicate\"\n"
     ]
    }
   ],
   "source": [
    "dataset = pd.read_csv(\"middesk_refuel_POC_sample_1.csv\")\n",
    "for row in range(len(dataset)):\n",
    "    dataset.loc[row, \"src_names\"] = dataset.loc[row, \"src_names\"].strip(\"[\").strip(\"]\")\n",
    "    dataset.loc[row, \"dst_names\"] = dataset.loc[row, \"dst_names\"].strip(\"[\").strip(\"]\")\n",
    "\n",
    "    dataset.loc[row, \"src_addresses\"] = dataset.loc[row, \"src_addresses\"].strip(\"[\").strip(\"]\")\n",
    "    dataset.loc[row, \"dst_addresses\"] = dataset.loc[row, \"dst_addresses\"].strip(\"[\").strip(\"]\")\n",
    "\n",
    "    dataset.loc[row, \"src_people\"] = dataset.loc[row, \"src_people\"].strip(\"[\").strip(\"]\")\n",
    "    dataset.loc[row, \"dst_people\"] = dataset.loc[row, \"dst_people\"].strip(\"[\").strip(\"]\")\n",
    "\n",
    "    dataset.loc[row, \"entity1\"] = f'Names: {str(dataset.loc[row, \"src_names\"])} Addresses: {str(dataset.loc[row, \"src_addresses\"])} Company Type: {str(dataset.loc[row, \"src_entity_type\"])} Jurisdiction: {str(dataset.loc[row, \"src_jurisdiction\"])} People (if any): {str(dataset.loc[row, \"src_people\"])} Filing Date: {str(dataset.loc[row, \"src_filing_date\"])}'\n",
    "    dataset.loc[row, \"entity2\"] = f'Names: {str(dataset.loc[row, \"dst_names\"])} Addresses: {str(dataset.loc[row, \"dst_addresses\"])} Company Type: {str(dataset.loc[row, \"dst_entity_type\"])} Jurisdiction: {str(dataset.loc[row, \"dst_jurisdiction\"])} People (if any): {str(dataset.loc[row, \"dst_people\"])} Filing Date: {str(dataset.loc[row, \"dst_filing_date\"])}'\n",
    "    dataset.loc[row, \"label\"] = \"duplicate\" if dataset.loc[row, \"match\"] else \"not duplicate\""
   ]
  },
  {
   "cell_type": "code",
   "execution_count": 31,
   "id": "21615ddd-6e97-4606-8a9a-c4baa10f959f",
   "metadata": {},
   "outputs": [],
   "source": [
    "dataset = dataset[['entity1','entity2','label']]"
   ]
  },
  {
   "cell_type": "code",
   "execution_count": 32,
   "id": "cb41dbb8-a57f-4e36-aabf-89f51a0f5bcb",
   "metadata": {},
   "outputs": [],
   "source": [
    "dataset.to_csv(\"test.csv\", index=False)"
   ]
  },
  {
   "cell_type": "code",
   "execution_count": 33,
   "id": "57e8a929-7265-4880-8e75-4f2f70f302ef",
   "metadata": {},
   "outputs": [
    {
     "data": {
      "text/html": [
       "<div>\n",
       "<style scoped>\n",
       "    .dataframe tbody tr th:only-of-type {\n",
       "        vertical-align: middle;\n",
       "    }\n",
       "\n",
       "    .dataframe tbody tr th {\n",
       "        vertical-align: top;\n",
       "    }\n",
       "\n",
       "    .dataframe thead th {\n",
       "        text-align: right;\n",
       "    }\n",
       "</style>\n",
       "<table border=\"1\" class=\"dataframe\">\n",
       "  <thead>\n",
       "    <tr style=\"text-align: right;\">\n",
       "      <th></th>\n",
       "      <th>entity1</th>\n",
       "      <th>entity2</th>\n",
       "      <th>label</th>\n",
       "    </tr>\n",
       "  </thead>\n",
       "  <tbody>\n",
       "    <tr>\n",
       "      <th>0</th>\n",
       "      <td>Names: CORDWOOD TRAIL INVESTMENTS L.L.C. Addre...</td>\n",
       "      <td>Names: TRAILS INVESTORS, LLC Addresses: 1 RIDG...</td>\n",
       "      <td>not duplicate</td>\n",
       "    </tr>\n",
       "    <tr>\n",
       "      <th>1</th>\n",
       "      <td>Names: H.O.A.M. LLC Addresses: 1221 RIVERWALK ...</td>\n",
       "      <td>Names: H. &amp; A. INC. Addresses: 600 E BOULEVARD...</td>\n",
       "      <td>not duplicate</td>\n",
       "    </tr>\n",
       "    <tr>\n",
       "      <th>2</th>\n",
       "      <td>Names: American College Planning, Inc. Address...</td>\n",
       "      <td>Names: AMERICAN MASONRY INC Addresses: 156 MET...</td>\n",
       "      <td>not duplicate</td>\n",
       "    </tr>\n",
       "    <tr>\n",
       "      <th>3</th>\n",
       "      <td>Names: NATIONAL PARK PATHOLOGY, P.A. Addresses...</td>\n",
       "      <td>Names: NATIONAL BY-PRODUCTS, INC. Addresses: 4...</td>\n",
       "      <td>not duplicate</td>\n",
       "    </tr>\n",
       "    <tr>\n",
       "      <th>4</th>\n",
       "      <td>Names: UNION MANAGEMENT SERVICES, INC. Address...</td>\n",
       "      <td>Names: Union Management Services, Inc. Address...</td>\n",
       "      <td>duplicate</td>\n",
       "    </tr>\n",
       "    <tr>\n",
       "      <th>...</th>\n",
       "      <td>...</td>\n",
       "      <td>...</td>\n",
       "      <td>...</td>\n",
       "    </tr>\n",
       "    <tr>\n",
       "      <th>4459</th>\n",
       "      <td>Names: SINCLAIR OIL CORPORATION Addresses: 500...</td>\n",
       "      <td>Names: SINCLAIR OIL CORPORATION Addresses: 33 ...</td>\n",
       "      <td>duplicate</td>\n",
       "    </tr>\n",
       "    <tr>\n",
       "      <th>4460</th>\n",
       "      <td>Names: GLOBAL HUMAN CAPITAL CONSULTANTS, INC. ...</td>\n",
       "      <td>Names: GLOBAL HUMANITY LLC Addresses: 17350 ST...</td>\n",
       "      <td>not duplicate</td>\n",
       "    </tr>\n",
       "    <tr>\n",
       "      <th>4461</th>\n",
       "      <td>Names: MT MEDICAL SUPPLY, L.L.C. Addresses: 34...</td>\n",
       "      <td>Names: MT Medical Properties Manager, LLC Addr...</td>\n",
       "      <td>not duplicate</td>\n",
       "    </tr>\n",
       "    <tr>\n",
       "      <th>4462</th>\n",
       "      <td>Names: GOLDEN MOUNTAIN MINISTRIES Addresses: 9...</td>\n",
       "      <td>Names: Golden Mountain Properties LLC Addresse...</td>\n",
       "      <td>not duplicate</td>\n",
       "    </tr>\n",
       "    <tr>\n",
       "      <th>4463</th>\n",
       "      <td>Names: BIRD AND ASSOCIATES, INCORPORATED Addre...</td>\n",
       "      <td>Names: Bird and Associates Inc Addresses: 1135...</td>\n",
       "      <td>not duplicate</td>\n",
       "    </tr>\n",
       "  </tbody>\n",
       "</table>\n",
       "<p>4464 rows × 3 columns</p>\n",
       "</div>"
      ],
      "text/plain": [
       "                                                entity1  \\\n",
       "0     Names: CORDWOOD TRAIL INVESTMENTS L.L.C. Addre...   \n",
       "1     Names: H.O.A.M. LLC Addresses: 1221 RIVERWALK ...   \n",
       "2     Names: American College Planning, Inc. Address...   \n",
       "3     Names: NATIONAL PARK PATHOLOGY, P.A. Addresses...   \n",
       "4     Names: UNION MANAGEMENT SERVICES, INC. Address...   \n",
       "...                                                 ...   \n",
       "4459  Names: SINCLAIR OIL CORPORATION Addresses: 500...   \n",
       "4460  Names: GLOBAL HUMAN CAPITAL CONSULTANTS, INC. ...   \n",
       "4461  Names: MT MEDICAL SUPPLY, L.L.C. Addresses: 34...   \n",
       "4462  Names: GOLDEN MOUNTAIN MINISTRIES Addresses: 9...   \n",
       "4463  Names: BIRD AND ASSOCIATES, INCORPORATED Addre...   \n",
       "\n",
       "                                                entity2          label  \n",
       "0     Names: TRAILS INVESTORS, LLC Addresses: 1 RIDG...  not duplicate  \n",
       "1     Names: H. & A. INC. Addresses: 600 E BOULEVARD...  not duplicate  \n",
       "2     Names: AMERICAN MASONRY INC Addresses: 156 MET...  not duplicate  \n",
       "3     Names: NATIONAL BY-PRODUCTS, INC. Addresses: 4...  not duplicate  \n",
       "4     Names: Union Management Services, Inc. Address...      duplicate  \n",
       "...                                                 ...            ...  \n",
       "4459  Names: SINCLAIR OIL CORPORATION Addresses: 33 ...      duplicate  \n",
       "4460  Names: GLOBAL HUMANITY LLC Addresses: 17350 ST...  not duplicate  \n",
       "4461  Names: MT Medical Properties Manager, LLC Addr...  not duplicate  \n",
       "4462  Names: Golden Mountain Properties LLC Addresse...  not duplicate  \n",
       "4463  Names: Bird and Associates Inc Addresses: 1135...  not duplicate  \n",
       "\n",
       "[4464 rows x 3 columns]"
      ]
     },
     "execution_count": 33,
     "metadata": {},
     "output_type": "execute_result"
    }
   ],
   "source": [
    "dataset"
   ]
  },
  {
   "cell_type": "code",
   "execution_count": 34,
   "id": "7e5b223a-dadd-4302-bd8f-12223f287972",
   "metadata": {},
   "outputs": [],
   "source": [
    "from sklearn.model_selection import train_test_split"
   ]
  },
  {
   "cell_type": "code",
   "execution_count": 35,
   "id": "ba860fe4-8fa4-4056-8c0f-24bbcd78e6f2",
   "metadata": {},
   "outputs": [],
   "source": [
    "x, y = train_test_split(dataset, train_size=100)"
   ]
  },
  {
   "cell_type": "code",
   "execution_count": 38,
   "id": "93932127-0276-423d-b27f-56708fc012f6",
   "metadata": {},
   "outputs": [],
   "source": [
    "x.to_csv(\"seed.csv\", index=False)\n",
    "y.to_csv(\"test.csv\", index=False)\n"
   ]
  },
  {
   "cell_type": "code",
   "execution_count": null,
   "id": "f7b7e1ed-0838-4821-b8b3-90f23bc89c90",
   "metadata": {},
   "outputs": [],
   "source": []
  }
 ],
 "metadata": {
  "kernelspec": {
   "display_name": "Python 3 (ipykernel)",
   "language": "python",
   "name": "python3"
  },
  "language_info": {
   "codemirror_mode": {
    "name": "ipython",
    "version": 3
   },
   "file_extension": ".py",
   "mimetype": "text/x-python",
   "name": "python",
   "nbconvert_exporter": "python",
   "pygments_lexer": "ipython3",
   "version": "3.10.6"
  }
 },
 "nbformat": 4,
 "nbformat_minor": 5
}
