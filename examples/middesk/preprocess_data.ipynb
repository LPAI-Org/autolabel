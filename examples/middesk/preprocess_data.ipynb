{
 "cells": [
  {
   "cell_type": "code",
   "execution_count": 2,
   "id": "b024402a-41bb-4f62-b125-5528e5943db3",
   "metadata": {},
   "outputs": [],
   "source": [
    "import pandas as pd"
   ]
  },
  {
   "cell_type": "code",
   "execution_count": 3,
   "id": "23c134b3-f81a-4918-8db3-92f3c33fe4e3",
   "metadata": {},
   "outputs": [
    {
     "name": "stderr",
     "output_type": "stream",
     "text": [
      "/tmp/ipykernel_46637/460687826.py:12: FutureWarning: Setting an item of incompatible dtype is deprecated and will raise in a future error of pandas. Value 'Names: [MARK M. WILLIAMS, M.D., P.A.,WILLIAMS SHOULDER AND SPORTS MEDICINE] \\n Addresses: [320 E 19TH ST, PANAMA CITY, FL 32405-4718] \\n Company Type: UNKNOWN \\n People (if any): [WILLIAMS MARK M.]' has dtype incompatible with float64, please explicitly cast to a compatible dtype first.\n",
      "  dataset.loc[row, \"entity1\"] = f'Names: {str(dataset.loc[row, \"src_names\"])} \\\\n Addresses: {str(dataset.loc[row, \"src_addresses\"])} \\\\n Company Type: {str(dataset.loc[row, \"src_entity_type\"])} \\\\n People (if any): {str(dataset.loc[row, \"src_people\"])}'\n",
      "/tmp/ipykernel_46637/460687826.py:13: FutureWarning: Setting an item of incompatible dtype is deprecated and will raise in a future error of pandas. Value 'Names: [MARK M BENEDUM] \\n Addresses: [] \\n Company Type: UNKNOWN \\n People (if any): []' has dtype incompatible with float64, please explicitly cast to a compatible dtype first.\n",
      "  dataset.loc[row, \"entity2\"] = f'Names: {str(dataset.loc[row, \"dst_names\"])} \\\\n Addresses: {str(dataset.loc[row, \"dst_addresses\"])} \\\\n Company Type: {str(dataset.loc[row, \"dst_entity_type\"])} \\\\n People (if any): {str(dataset.loc[row, \"dst_people\"])}'\n",
      "/tmp/ipykernel_46637/460687826.py:14: FutureWarning: Setting an item of incompatible dtype is deprecated and will raise in a future error of pandas. Value 'not duplicate' has dtype incompatible with float64, please explicitly cast to a compatible dtype first.\n",
      "  dataset.loc[row, \"label\"] = \"duplicate\" if dataset.loc[row, \"match\"] else \"not duplicate\"\n"
     ]
    }
   ],
   "source": [
    "dataset = pd.read_csv(\"middesk_refuel_POC_sample_with_dba_cleaned.csv\")\n",
    "for row in range(len(dataset)):\n",
    "    # dataset.loc[row, \"src_names\"] = dataset.loc[row, \"src_names\"].strip(\"[\").strip(\"]\")\n",
    "    # dataset.loc[row, \"dst_names\"] = dataset.loc[row, \"dst_names\"].strip(\"[\").strip(\"]\")\n",
    "\n",
    "    # dataset.loc[row, \"src_addresses\"] = dataset.loc[row, \"src_addresses\"].strip(\"[\").strip(\"]\")\n",
    "    # dataset.loc[row, \"dst_addresses\"] = dataset.loc[row, \"dst_addresses\"].strip(\"[\").strip(\"]\")\n",
    "\n",
    "    # dataset.loc[row, \"src_people\"] = dataset.loc[row, \"src_people\"].strip(\"[\").strip(\"]\")\n",
    "    # dataset.loc[row, \"dst_people\"] = dataset.loc[row, \"dst_people\"].strip(\"[\").strip(\"]\")\n",
    "\n",
    "    dataset.loc[row, \"entity1\"] = f'Names: {str(dataset.loc[row, \"src_names\"])} \\\\n Addresses: {str(dataset.loc[row, \"src_addresses\"])} \\\\n Company Type: {str(dataset.loc[row, \"src_entity_type\"])} \\\\n People (if any): {str(dataset.loc[row, \"src_people\"])}'\n",
    "    dataset.loc[row, \"entity2\"] = f'Names: {str(dataset.loc[row, \"dst_names\"])} \\\\n Addresses: {str(dataset.loc[row, \"dst_addresses\"])} \\\\n Company Type: {str(dataset.loc[row, \"dst_entity_type\"])} \\\\n People (if any): {str(dataset.loc[row, \"dst_people\"])}'\n",
    "    dataset.loc[row, \"label\"] = \"duplicate\" if dataset.loc[row, \"match\"] else \"not duplicate\""
   ]
  },
  {
   "cell_type": "code",
   "execution_count": 4,
   "id": "21615ddd-6e97-4606-8a9a-c4baa10f959f",
   "metadata": {},
   "outputs": [],
   "source": [
    "dataset = dataset[['entity1','entity2','label']]"
   ]
  },
  {
   "cell_type": "code",
   "execution_count": 5,
   "id": "cb41dbb8-a57f-4e36-aabf-89f51a0f5bcb",
   "metadata": {},
   "outputs": [],
   "source": [
    "dataset = dataset.sample(frac=1, ignore_index=True)\n",
    "dataset.to_csv(\"test.csv\", index=False)"
   ]
  },
  {
   "cell_type": "code",
   "execution_count": 6,
   "id": "57e8a929-7265-4880-8e75-4f2f70f302ef",
   "metadata": {},
   "outputs": [
    {
     "data": {
      "text/html": [
       "<div>\n",
       "<style scoped>\n",
       "    .dataframe tbody tr th:only-of-type {\n",
       "        vertical-align: middle;\n",
       "    }\n",
       "\n",
       "    .dataframe tbody tr th {\n",
       "        vertical-align: top;\n",
       "    }\n",
       "\n",
       "    .dataframe thead th {\n",
       "        text-align: right;\n",
       "    }\n",
       "</style>\n",
       "<table border=\"1\" class=\"dataframe\">\n",
       "  <thead>\n",
       "    <tr style=\"text-align: right;\">\n",
       "      <th></th>\n",
       "      <th>entity1</th>\n",
       "      <th>entity2</th>\n",
       "      <th>label</th>\n",
       "    </tr>\n",
       "  </thead>\n",
       "  <tbody>\n",
       "    <tr>\n",
       "      <th>0</th>\n",
       "      <td>Names: [UNDER PRESSURE] \\n Addresses: [20 WHIT...</td>\n",
       "      <td>Names: [Under Pressure LLC] \\n Addresses: [355...</td>\n",
       "      <td>not duplicate</td>\n",
       "    </tr>\n",
       "    <tr>\n",
       "      <th>1</th>\n",
       "      <td>Names: [FUN BOY] \\n Addresses: [953 N POWERLIN...</td>\n",
       "      <td>Names: [FUNBOY LLC] \\n Addresses: [4111 E MADI...</td>\n",
       "      <td>not duplicate</td>\n",
       "    </tr>\n",
       "    <tr>\n",
       "      <th>2</th>\n",
       "      <td>Names: [VISUAL PLUS MARKETING] \\n Addresses: [...</td>\n",
       "      <td>Names: [DR. SAM HSU &amp; ASSOCIATES, P.S,VISION P...</td>\n",
       "      <td>not duplicate</td>\n",
       "    </tr>\n",
       "    <tr>\n",
       "      <th>3</th>\n",
       "      <td>Names: [CUSTOM FIBERGLASS BOAT REPAIRS] \\n Add...</td>\n",
       "      <td>Names: [LAUDERDALE BOAT REPAIR, INC.] \\n Addre...</td>\n",
       "      <td>not duplicate</td>\n",
       "    </tr>\n",
       "    <tr>\n",
       "      <th>4</th>\n",
       "      <td>Names: [YOUNG FLY BOSSES ENTERTAINMENT / YFB E...</td>\n",
       "      <td>Names: [BOSS ENTERTAINMENT, LLC] \\n Addresses:...</td>\n",
       "      <td>not duplicate</td>\n",
       "    </tr>\n",
       "    <tr>\n",
       "      <th>...</th>\n",
       "      <td>...</td>\n",
       "      <td>...</td>\n",
       "      <td>...</td>\n",
       "    </tr>\n",
       "    <tr>\n",
       "      <th>9995</th>\n",
       "      <td>Names: [DECO WALK HOTEL &amp; GOLF CLUB,MIAMI PART...</td>\n",
       "      <td>Names: [MIAMI PARTY, INC.] \\n Addresses: [251 ...</td>\n",
       "      <td>not duplicate</td>\n",
       "    </tr>\n",
       "    <tr>\n",
       "      <th>9996</th>\n",
       "      <td>Names: [SANDY SHORES CLEANING] \\n Addresses: [...</td>\n",
       "      <td>Names: [SHORES CLEANING SERVICE LLC] \\n Addres...</td>\n",
       "      <td>not duplicate</td>\n",
       "    </tr>\n",
       "    <tr>\n",
       "      <th>9997</th>\n",
       "      <td>Names: [4 MY FAMILY LLC,M.V. HOUSE OF STYLE] \\...</td>\n",
       "      <td>Names: [MY FAMILY FIRST, LLC] \\n Addresses: [1...</td>\n",
       "      <td>not duplicate</td>\n",
       "    </tr>\n",
       "    <tr>\n",
       "      <th>9998</th>\n",
       "      <td>Names: [BLOOMFIELD INVESTMENTS LLC,EL MAR HOTE...</td>\n",
       "      <td>Names: [MARION HOTEL, INC.] \\n Addresses: [160...</td>\n",
       "      <td>not duplicate</td>\n",
       "    </tr>\n",
       "    <tr>\n",
       "      <th>9999</th>\n",
       "      <td>Names: [FLORIDA SOUTHERN INSURANCE,FLORIDA SOU...</td>\n",
       "      <td>Names: [FLORIDA SOUTHERN REALTY INVESTMENT TRU...</td>\n",
       "      <td>not duplicate</td>\n",
       "    </tr>\n",
       "  </tbody>\n",
       "</table>\n",
       "<p>10000 rows × 3 columns</p>\n",
       "</div>"
      ],
      "text/plain": [
       "                                                entity1  \\\n",
       "0     Names: [UNDER PRESSURE] \\n Addresses: [20 WHIT...   \n",
       "1     Names: [FUN BOY] \\n Addresses: [953 N POWERLIN...   \n",
       "2     Names: [VISUAL PLUS MARKETING] \\n Addresses: [...   \n",
       "3     Names: [CUSTOM FIBERGLASS BOAT REPAIRS] \\n Add...   \n",
       "4     Names: [YOUNG FLY BOSSES ENTERTAINMENT / YFB E...   \n",
       "...                                                 ...   \n",
       "9995  Names: [DECO WALK HOTEL & GOLF CLUB,MIAMI PART...   \n",
       "9996  Names: [SANDY SHORES CLEANING] \\n Addresses: [...   \n",
       "9997  Names: [4 MY FAMILY LLC,M.V. HOUSE OF STYLE] \\...   \n",
       "9998  Names: [BLOOMFIELD INVESTMENTS LLC,EL MAR HOTE...   \n",
       "9999  Names: [FLORIDA SOUTHERN INSURANCE,FLORIDA SOU...   \n",
       "\n",
       "                                                entity2          label  \n",
       "0     Names: [Under Pressure LLC] \\n Addresses: [355...  not duplicate  \n",
       "1     Names: [FUNBOY LLC] \\n Addresses: [4111 E MADI...  not duplicate  \n",
       "2     Names: [DR. SAM HSU & ASSOCIATES, P.S,VISION P...  not duplicate  \n",
       "3     Names: [LAUDERDALE BOAT REPAIR, INC.] \\n Addre...  not duplicate  \n",
       "4     Names: [BOSS ENTERTAINMENT, LLC] \\n Addresses:...  not duplicate  \n",
       "...                                                 ...            ...  \n",
       "9995  Names: [MIAMI PARTY, INC.] \\n Addresses: [251 ...  not duplicate  \n",
       "9996  Names: [SHORES CLEANING SERVICE LLC] \\n Addres...  not duplicate  \n",
       "9997  Names: [MY FAMILY FIRST, LLC] \\n Addresses: [1...  not duplicate  \n",
       "9998  Names: [MARION HOTEL, INC.] \\n Addresses: [160...  not duplicate  \n",
       "9999  Names: [FLORIDA SOUTHERN REALTY INVESTMENT TRU...  not duplicate  \n",
       "\n",
       "[10000 rows x 3 columns]"
      ]
     },
     "execution_count": 6,
     "metadata": {},
     "output_type": "execute_result"
    }
   ],
   "source": [
    "dataset"
   ]
  },
  {
   "cell_type": "code",
   "execution_count": 7,
   "id": "7e5b223a-dadd-4302-bd8f-12223f287972",
   "metadata": {},
   "outputs": [],
   "source": [
    "from sklearn.model_selection import train_test_split"
   ]
  },
  {
   "cell_type": "code",
   "execution_count": 8,
   "id": "ba860fe4-8fa4-4056-8c0f-24bbcd78e6f2",
   "metadata": {},
   "outputs": [],
   "source": [
    "x, y = train_test_split(dataset, train_size=100)"
   ]
  },
  {
   "cell_type": "code",
   "execution_count": 9,
   "id": "93932127-0276-423d-b27f-56708fc012f6",
   "metadata": {},
   "outputs": [],
   "source": [
    "x.to_csv(\"seed.csv\", index=False)\n",
    "y.to_csv(\"test.csv\", index=False)\n"
   ]
  },
  {
   "cell_type": "code",
   "execution_count": null,
   "id": "f7b7e1ed-0838-4821-b8b3-90f23bc89c90",
   "metadata": {},
   "outputs": [],
   "source": []
  },
  {
   "cell_type": "code",
   "execution_count": 21,
   "id": "ba1b6165-2460-40f8-a6be-c812fc3f5ed3",
   "metadata": {},
   "outputs": [
    {
     "name": "stderr",
     "output_type": "stream",
     "text": [
      "/tmp/ipykernel_46637/151988280.py:14: FutureWarning: Setting an item of incompatible dtype is deprecated and will raise in a future error of pandas. Value 'not duplicate' has dtype incompatible with float64, please explicitly cast to a compatible dtype first.\n",
      "  dataset.loc[row, \"middesk_label\"] = curr_labels[0]\n",
      "/tmp/ipykernel_46637/151988280.py:15: FutureWarning: Setting an item of incompatible dtype is deprecated and will raise in a future error of pandas. Value 'not duplicate' has dtype incompatible with float64, please explicitly cast to a compatible dtype first.\n",
      "  dataset.loc[row, \"refuel_label\"] = curr_labels[1]\n"
     ]
    }
   ],
   "source": [
    "dataset = pd.read_csv(\"middesk_refuel_POC_sample_with_dba_cleaned.csv\")\n",
    "all_predictions = pd.read_csv(\"all_predictions.csv\")\n",
    "label_map = {}\n",
    "\n",
    "for i in range(len(all_predictions)):\n",
    "    label_map[(all_predictions.loc[i][\"entity1\"], all_predictions.loc[i][\"entity2\"])] = (all_predictions.loc[i][\"label\"], all_predictions.loc[i][\"CompanyEntityMatch_label\"])\n",
    "\n",
    "not_found = 0\n",
    "for row in range(len(dataset)):\n",
    "    entity1_rep = f'Names: {str(dataset.loc[row, \"src_names\"])} \\\\n Addresses: {str(dataset.loc[row, \"src_addresses\"])} \\\\n Company Type: {str(dataset.loc[row, \"src_entity_type\"])} \\\\n People (if any): {str(dataset.loc[row, \"src_people\"])}'\n",
    "    entity2_rep = f'Names: {str(dataset.loc[row, \"dst_names\"])} \\\\n Addresses: {str(dataset.loc[row, \"dst_addresses\"])} \\\\n Company Type: {str(dataset.loc[row, \"dst_entity_type\"])} \\\\n People (if any): {str(dataset.loc[row, \"dst_people\"])}'\n",
    "    try:\n",
    "        curr_labels = label_map[(entity1_rep, entity2_rep)]\n",
    "        dataset.loc[row, \"middesk_label\"] = curr_labels[0]\n",
    "        dataset.loc[row, \"refuel_label\"] = curr_labels[1]\n",
    "    except Exception as e:\n",
    "        not_found += 1\n",
    "\n",
    "dataset.to_csv(\"original_dataset_with_labels.csv\", sep=\"\\t\", index=False)\n"
   ]
  },
  {
   "cell_type": "code",
   "execution_count": null,
   "id": "e4d2bf50-8243-4711-9d5e-061ea53ab4bc",
   "metadata": {},
   "outputs": [],
   "source": []
  }
 ],
 "metadata": {
  "kernelspec": {
   "display_name": "Python 3 (ipykernel)",
   "language": "python",
   "name": "python3"
  },
  "language_info": {
   "codemirror_mode": {
    "name": "ipython",
    "version": 3
   },
   "file_extension": ".py",
   "mimetype": "text/x-python",
   "name": "python",
   "nbconvert_exporter": "python",
   "pygments_lexer": "ipython3",
   "version": "3.10.6"
  }
 },
 "nbformat": 4,
 "nbformat_minor": 5
}
