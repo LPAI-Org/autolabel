{
 "cells": [
  {
   "cell_type": "code",
   "execution_count": 2,
   "id": "b024402a-41bb-4f62-b125-5528e5943db3",
   "metadata": {},
   "outputs": [],
   "source": [
    "import pandas as pd"
   ]
  },
  {
   "cell_type": "code",
   "execution_count": 3,
   "id": "23c134b3-f81a-4918-8db3-92f3c33fe4e3",
   "metadata": {},
   "outputs": [
    {
     "name": "stderr",
     "output_type": "stream",
     "text": [
      "/tmp/ipykernel_159745/1120671854.py:12: FutureWarning: Setting an item of incompatible dtype is deprecated and will raise in a future error of pandas. Value 'Names: [CARFINANCE CAPITAL LLC,CARFINANCE.COM] \\n Addresses: [620 NEWPORT CENTER DR STE 1100, NEWPORT BEACH, CA 92660-8011] \\n Company Type: LLC \\n People (if any): []' has dtype incompatible with float64, please explicitly cast to a compatible dtype first.\n",
      "  dataset.loc[row, \"entity1\"] = f'Names: {str(dataset.loc[row, \"src_names\"])} \\\\n Addresses: {str(dataset.loc[row, \"src_addresses\"])} \\\\n Company Type: {str(dataset.loc[row, \"src_entity_type\"])} \\\\n People (if any): {str(dataset.loc[row, \"src_people\"])}'\n",
      "/tmp/ipykernel_159745/1120671854.py:13: FutureWarning: Setting an item of incompatible dtype is deprecated and will raise in a future error of pandas. Value 'Names: [CARFINANCE.COM LLC] \\n Addresses: [15 W SOUTH TEMPLE STE 600, SALT LAKE CITY, UT 84101-1536,3 CHRISTY DR STE 201, CHADDS FORD, PA 19317-9670,7525 IRVINE CENTER DR STE 250, IRVINE, CA 92618-3070,9003 AIRPORT FWY STE G270, NORTH RICHLAND HILLS, TX 76180-7770] \\n Company Type: LLC \\n People (if any): [KENNETH J SICINSKI,LYNDON C HEWITT]' has dtype incompatible with float64, please explicitly cast to a compatible dtype first.\n",
      "  dataset.loc[row, \"entity2\"] = f'Names: {str(dataset.loc[row, \"dst_names\"])} \\\\n Addresses: {str(dataset.loc[row, \"dst_addresses\"])} \\\\n Company Type: {str(dataset.loc[row, \"dst_entity_type\"])} \\\\n People (if any): {str(dataset.loc[row, \"dst_people\"])}'\n",
      "/tmp/ipykernel_159745/1120671854.py:14: FutureWarning: Setting an item of incompatible dtype is deprecated and will raise in a future error of pandas. Value 'not duplicate' has dtype incompatible with float64, please explicitly cast to a compatible dtype first.\n",
      "  dataset.loc[row, \"label\"] = \"not duplicate\"\n"
     ]
    }
   ],
   "source": [
    "dataset = pd.read_csv(\"250_tricky.csv\")\n",
    "for row in range(len(dataset)):\n",
    "    # dataset.loc[row, \"src_names\"] = dataset.loc[row, \"src_names\"].strip(\"[\").strip(\"]\")\n",
    "    # dataset.loc[row, \"dst_names\"] = dataset.loc[row, \"dst_names\"].strip(\"[\").strip(\"]\")\n",
    "\n",
    "    # dataset.loc[row, \"src_addresses\"] = dataset.loc[row, \"src_addresses\"].strip(\"[\").strip(\"]\")\n",
    "    # dataset.loc[row, \"dst_addresses\"] = dataset.loc[row, \"dst_addresses\"].strip(\"[\").strip(\"]\")\n",
    "\n",
    "    # dataset.loc[row, \"src_people\"] = dataset.loc[row, \"src_people\"].strip(\"[\").strip(\"]\")\n",
    "    # dataset.loc[row, \"dst_people\"] = dataset.loc[row, \"dst_people\"].strip(\"[\").strip(\"]\")\n",
    "\n",
    "    dataset.loc[row, \"entity1\"] = f'Names: {str(dataset.loc[row, \"src_names\"])} \\\\n Addresses: {str(dataset.loc[row, \"src_addresses\"])} \\\\n Company Type: {str(dataset.loc[row, \"src_entity_type\"])} \\\\n People (if any): {str(dataset.loc[row, \"src_people\"])}'\n",
    "    dataset.loc[row, \"entity2\"] = f'Names: {str(dataset.loc[row, \"dst_names\"])} \\\\n Addresses: {str(dataset.loc[row, \"dst_addresses\"])} \\\\n Company Type: {str(dataset.loc[row, \"dst_entity_type\"])} \\\\n People (if any): {str(dataset.loc[row, \"dst_people\"])}'\n",
    "    dataset.loc[row, \"label\"] = \"not duplicate\""
   ]
  },
  {
   "cell_type": "code",
   "execution_count": 4,
   "id": "21615ddd-6e97-4606-8a9a-c4baa10f959f",
   "metadata": {},
   "outputs": [],
   "source": [
    "dataset = dataset[['entity1','entity2','label']]\n",
    "# dataset = dataset[['entity1','entity2']]"
   ]
  },
  {
   "cell_type": "code",
   "execution_count": 5,
   "id": "cb41dbb8-a57f-4e36-aabf-89f51a0f5bcb",
   "metadata": {},
   "outputs": [],
   "source": [
    "dataset = dataset.sample(frac=1, ignore_index=True)\n",
    "dataset.to_csv(\"test.csv\", index=False)"
   ]
  },
  {
   "cell_type": "code",
   "execution_count": 6,
   "id": "57e8a929-7265-4880-8e75-4f2f70f302ef",
   "metadata": {},
   "outputs": [
    {
     "data": {
      "text/html": [
       "<div>\n",
       "<style scoped>\n",
       "    .dataframe tbody tr th:only-of-type {\n",
       "        vertical-align: middle;\n",
       "    }\n",
       "\n",
       "    .dataframe tbody tr th {\n",
       "        vertical-align: top;\n",
       "    }\n",
       "\n",
       "    .dataframe thead th {\n",
       "        text-align: right;\n",
       "    }\n",
       "</style>\n",
       "<table border=\"1\" class=\"dataframe\">\n",
       "  <thead>\n",
       "    <tr style=\"text-align: right;\">\n",
       "      <th></th>\n",
       "      <th>entity1</th>\n",
       "      <th>entity2</th>\n",
       "      <th>label</th>\n",
       "    </tr>\n",
       "  </thead>\n",
       "  <tbody>\n",
       "    <tr>\n",
       "      <th>0</th>\n",
       "      <td>Names: [EPATH DIGITAL, LP,EQUITYWISE] \\n Addre...</td>\n",
       "      <td>Names: [EPATH DIGITAL, LP] \\n Addresses: [2010...</td>\n",
       "      <td>not duplicate</td>\n",
       "    </tr>\n",
       "    <tr>\n",
       "      <th>1</th>\n",
       "      <td>Names: [CENVEO WORLDWIDE LIMITED CORP.,NASHUA]...</td>\n",
       "      <td>Names: [NASHUA CORPORATION] \\n Addresses: [] \\...</td>\n",
       "      <td>not duplicate</td>\n",
       "    </tr>\n",
       "    <tr>\n",
       "      <th>2</th>\n",
       "      <td>Names: [BJ'S WHOLESALE CLUB #174,BJ'S WHOLESAL...</td>\n",
       "      <td>Names: [BJ'S WHOLESALE CLUB, INC.] \\n Addresse...</td>\n",
       "      <td>not duplicate</td>\n",
       "    </tr>\n",
       "    <tr>\n",
       "      <th>3</th>\n",
       "      <td>Names: [GAP #1497,GAP INC] \\n Addresses: [PO B...</td>\n",
       "      <td>Names: [GAP, INC.] \\n Addresses: [17710 NW 10T...</td>\n",
       "      <td>not duplicate</td>\n",
       "    </tr>\n",
       "    <tr>\n",
       "      <th>4</th>\n",
       "      <td>Names: [DELMAR FINANCIAL COMPANY,FIRST RATE MO...</td>\n",
       "      <td>Names: [DELMAR FINANCIAL COMPANY] \\n Addresses...</td>\n",
       "      <td>not duplicate</td>\n",
       "    </tr>\n",
       "    <tr>\n",
       "      <th>...</th>\n",
       "      <td>...</td>\n",
       "      <td>...</td>\n",
       "      <td>...</td>\n",
       "    </tr>\n",
       "    <tr>\n",
       "      <th>245</th>\n",
       "      <td>Names: [IT WORKS MARKETING, INC.,IT WORKS! GLO...</td>\n",
       "      <td>Names: [IT WORKS MARKETING, INC.] \\n Addresses...</td>\n",
       "      <td>not duplicate</td>\n",
       "    </tr>\n",
       "    <tr>\n",
       "      <th>246</th>\n",
       "      <td>Names: [BIOMATRIX SPECIALTY PHARMACY FL,FFP, L...</td>\n",
       "      <td>Names: [FFP, LLC] \\n Addresses: [3300 CORPORAT...</td>\n",
       "      <td>not duplicate</td>\n",
       "    </tr>\n",
       "    <tr>\n",
       "      <th>247</th>\n",
       "      <td>Names: [RED TARGET LLC,SCJ COMMERCIAL FINANCIA...</td>\n",
       "      <td>Names: [RED TARGET LLC] \\n Addresses: [] \\n Co...</td>\n",
       "      <td>not duplicate</td>\n",
       "    </tr>\n",
       "    <tr>\n",
       "      <th>248</th>\n",
       "      <td>Names: [PHYSIOTHERAPY ASSOCIATES, INC.,SELECT ...</td>\n",
       "      <td>Names: [NOVACARE REHABILITATION,PHYSIOTHERAPY ...</td>\n",
       "      <td>not duplicate</td>\n",
       "    </tr>\n",
       "    <tr>\n",
       "      <th>249</th>\n",
       "      <td>Names: [NORDSTROM EBAR,NORDSTROM, INC.] \\n Add...</td>\n",
       "      <td>Names: [NORDSTROM INC,NORDSTROM INC &amp; SUBSIDIA...</td>\n",
       "      <td>not duplicate</td>\n",
       "    </tr>\n",
       "  </tbody>\n",
       "</table>\n",
       "<p>250 rows × 3 columns</p>\n",
       "</div>"
      ],
      "text/plain": [
       "                                               entity1  \\\n",
       "0    Names: [EPATH DIGITAL, LP,EQUITYWISE] \\n Addre...   \n",
       "1    Names: [CENVEO WORLDWIDE LIMITED CORP.,NASHUA]...   \n",
       "2    Names: [BJ'S WHOLESALE CLUB #174,BJ'S WHOLESAL...   \n",
       "3    Names: [GAP #1497,GAP INC] \\n Addresses: [PO B...   \n",
       "4    Names: [DELMAR FINANCIAL COMPANY,FIRST RATE MO...   \n",
       "..                                                 ...   \n",
       "245  Names: [IT WORKS MARKETING, INC.,IT WORKS! GLO...   \n",
       "246  Names: [BIOMATRIX SPECIALTY PHARMACY FL,FFP, L...   \n",
       "247  Names: [RED TARGET LLC,SCJ COMMERCIAL FINANCIA...   \n",
       "248  Names: [PHYSIOTHERAPY ASSOCIATES, INC.,SELECT ...   \n",
       "249  Names: [NORDSTROM EBAR,NORDSTROM, INC.] \\n Add...   \n",
       "\n",
       "                                               entity2          label  \n",
       "0    Names: [EPATH DIGITAL, LP] \\n Addresses: [2010...  not duplicate  \n",
       "1    Names: [NASHUA CORPORATION] \\n Addresses: [] \\...  not duplicate  \n",
       "2    Names: [BJ'S WHOLESALE CLUB, INC.] \\n Addresse...  not duplicate  \n",
       "3    Names: [GAP, INC.] \\n Addresses: [17710 NW 10T...  not duplicate  \n",
       "4    Names: [DELMAR FINANCIAL COMPANY] \\n Addresses...  not duplicate  \n",
       "..                                                 ...            ...  \n",
       "245  Names: [IT WORKS MARKETING, INC.] \\n Addresses...  not duplicate  \n",
       "246  Names: [FFP, LLC] \\n Addresses: [3300 CORPORAT...  not duplicate  \n",
       "247  Names: [RED TARGET LLC] \\n Addresses: [] \\n Co...  not duplicate  \n",
       "248  Names: [NOVACARE REHABILITATION,PHYSIOTHERAPY ...  not duplicate  \n",
       "249  Names: [NORDSTROM INC,NORDSTROM INC & SUBSIDIA...  not duplicate  \n",
       "\n",
       "[250 rows x 3 columns]"
      ]
     },
     "execution_count": 6,
     "metadata": {},
     "output_type": "execute_result"
    }
   ],
   "source": [
    "dataset"
   ]
  },
  {
   "cell_type": "code",
   "execution_count": 7,
   "id": "7e5b223a-dadd-4302-bd8f-12223f287972",
   "metadata": {},
   "outputs": [],
   "source": [
    "from sklearn.model_selection import train_test_split"
   ]
  },
  {
   "cell_type": "code",
   "execution_count": 8,
   "id": "ba860fe4-8fa4-4056-8c0f-24bbcd78e6f2",
   "metadata": {},
   "outputs": [],
   "source": [
    "x, y = train_test_split(dataset, train_size=100)"
   ]
  },
  {
   "cell_type": "code",
   "execution_count": 9,
   "id": "93932127-0276-423d-b27f-56708fc012f6",
   "metadata": {},
   "outputs": [],
   "source": [
    "x.to_csv(\"seed.csv\", index=False)\n",
    "y.to_csv(\"test.csv\", index=False)\n"
   ]
  },
  {
   "cell_type": "code",
   "execution_count": null,
   "id": "f7b7e1ed-0838-4821-b8b3-90f23bc89c90",
   "metadata": {},
   "outputs": [],
   "source": []
  },
  {
   "cell_type": "code",
   "execution_count": 10,
   "id": "ba1b6165-2460-40f8-a6be-c812fc3f5ed3",
   "metadata": {},
   "outputs": [
    {
     "name": "stderr",
     "output_type": "stream",
     "text": [
      "/tmp/ipykernel_159745/49363054.py:15: FutureWarning: Setting an item of incompatible dtype is deprecated and will raise in a future error of pandas. Value 'not duplicate' has dtype incompatible with float64, please explicitly cast to a compatible dtype first.\n",
      "  dataset.loc[row, \"refuel_base_llm_label\"] = curr_labels[1]\n"
     ]
    }
   ],
   "source": [
    "dataset = pd.read_csv(\"250_tricky.csv\")\n",
    "all_predictions = pd.read_csv(\"all_predictions.csv\")\n",
    "label_map = {}\n",
    "\n",
    "for i in range(len(all_predictions)):\n",
    "    label_map[(all_predictions.loc[i][\"entity1\"], all_predictions.loc[i][\"entity2\"])] = (all_predictions.loc[i][\"label\"], all_predictions.loc[i][\"CompanyEntityMatch_label\"])\n",
    "\n",
    "not_found = 0\n",
    "for row in range(len(dataset)):\n",
    "    entity1_rep = f'Names: {str(dataset.loc[row, \"src_names\"])} \\\\n Addresses: {str(dataset.loc[row, \"src_addresses\"])} \\\\n Company Type: {str(dataset.loc[row, \"src_entity_type\"])} \\\\n People (if any): {str(dataset.loc[row, \"src_people\"])}'\n",
    "    entity2_rep = f'Names: {str(dataset.loc[row, \"dst_names\"])} \\\\n Addresses: {str(dataset.loc[row, \"dst_addresses\"])} \\\\n Company Type: {str(dataset.loc[row, \"dst_entity_type\"])} \\\\n People (if any): {str(dataset.loc[row, \"dst_people\"])}'\n",
    "    try:\n",
    "        curr_labels = label_map[(entity1_rep, entity2_rep)]\n",
    "        # dataset.loc[row, \"middesk_label\"] = curr_labels[0]\n",
    "        dataset.loc[row, \"refuel_base_llm_label\"] = curr_labels[1]\n",
    "    except Exception as e:\n",
    "        not_found += 1\n",
    "\n",
    "dataset.to_csv(\"tricky_dataset_with_labels.csv\", sep=\"\\t\", index=False)\n"
   ]
  },
  {
   "cell_type": "code",
   "execution_count": null,
   "id": "e4d2bf50-8243-4711-9d5e-061ea53ab4bc",
   "metadata": {},
   "outputs": [],
   "source": []
  }
 ],
 "metadata": {
  "kernelspec": {
   "display_name": "Python 3 (ipykernel)",
   "language": "python",
   "name": "python3"
  },
  "language_info": {
   "codemirror_mode": {
    "name": "ipython",
    "version": 3
   },
   "file_extension": ".py",
   "mimetype": "text/x-python",
   "name": "python",
   "nbconvert_exporter": "python",
   "pygments_lexer": "ipython3",
   "version": "3.10.6"
  }
 },
 "nbformat": 4,
 "nbformat_minor": 5
}
